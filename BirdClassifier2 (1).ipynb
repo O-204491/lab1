{
 "cells": [
  {
   "cell_type": "code",
   "execution_count": null,
   "id": "91d20d71",
   "metadata": {},
   "outputs": [],
   "source": [
    "import matplotlib.pyplot as plt\n",
    "import pathlib, os, random\n",
    "import numpy as np\n",
    "import pandas as pd\n",
    "import tensorflow as tf\n",
    "import keras\n",
    "\n",
    "\n",
    "from keras.layers import Dense, Flatten, Conv2D, MaxPooling2D, Activation, BatchNormalization, Dropout , GlobalAveragePooling2D\n",
    "from keras.preprocessing.image import ImageDataGenerator\n",
    "from keras import Sequential\n",
    "from keras.callbacks import Callback, EarlyStopping,ModelCheckpoint"
   ]
  },
  {
   "cell_type": "code",
   "execution_count": null,
   "id": "6c1bb8d0",
   "metadata": {},
   "outputs": [],
   "source": [
    "train_path=\"Birds/train/\"\n",
    "no_birds_classes = os.listdir(train_path)\n",
    "len(no_birds_classes)"
   ]
  },
  {
   "cell_type": "code",
   "execution_count": null,
   "id": "0c8ab074",
   "metadata": {},
   "outputs": [],
   "source": [
    "data_dir = pathlib.Path(\"Birds/train/\")\n",
    "BirdClasses = np.array(sorted([item.name for item in data_dir.glob(\"*\")]))\n",
    "print(BirdClasses)"
   ]
  },
  {
   "cell_type": "code",
   "execution_count": null,
   "id": "b22a409f",
   "metadata": {},
   "outputs": [],
   "source": [
    "def view_random_image(target_dir, target_class):\n",
    "  \n",
    "  # setting up the image directory\n",
    "  target_folder = target_dir + target_class\n",
    "\n",
    "  #get a random image path\n",
    "  random_image = random.sample(os.listdir(target_folder), 1)\n",
    "\n",
    "  #read image and plotting it\n",
    "  img = plt.imread(target_folder + \"/\" + random_image[0] )\n",
    "  plt.imshow(img)\n",
    "  plt.title(target_class)\n",
    "  plt.axis(\"off\")\n",
    "\n",
    "  #print(f\"Image shape: {img.shape}\")\n",
    "  \n",
    "  return img"
   ]
  },
  {
   "cell_type": "code",
   "execution_count": null,
   "id": "ec65603d",
   "metadata": {},
   "outputs": [],
   "source": [
    "img = view_random_image(train_path,'ALBATROSS')"
   ]
  },
  {
   "cell_type": "code",
   "execution_count": null,
   "id": "188fd4a3",
   "metadata": {},
   "outputs": [],
   "source": [
    "fig, axes = plt.subplots(nrows=4, ncols=4, figsize=(10, 10),\n",
    "                        subplot_kw={'xticks': [], 'yticks': []})\n",
    "\n",
    "random_index = np.random.randint(0 , len(BirdClasses)-1 , 16)\n",
    "\n",
    "for i, ax in enumerate(axes.flat):\n",
    "    ax.imshow(view_random_image(train_path,BirdClasses[random_index[i]]))\n",
    "    ax.set_title(BirdClasses[random_index[i]])"
   ]
  },
  {
   "cell_type": "code",
   "execution_count": null,
   "id": "a1442362",
   "metadata": {},
   "outputs": [],
   "source": [
    "train_dir = \"Birds/train/\"\n",
    "test_dir = \"Birds/test/\"\n",
    "val_dir = \"Birds/valid/\""
   ]
  },
  {
   "cell_type": "code",
   "execution_count": null,
   "id": "4262ae2e",
   "metadata": {},
   "outputs": [],
   "source": [
    "from keras.applications.xception import Xception"
   ]
  },
  {
   "cell_type": "code",
   "execution_count": null,
   "id": "94a7a8b7",
   "metadata": {},
   "outputs": [],
   "source": [
    "train_gen = ImageDataGenerator(rescale=1./255)\n",
    "test_gen = ImageDataGenerator(rescale=1./255)\n",
    "val_gen = ImageDataGenerator(rescale=1./255)\n",
    "\n",
    "train_data = train_gen.flow_from_directory( train_dir , target_size=(224,224) , batch_size=32 , class_mode = \"categorical\" ,shuffle=True )\n",
    "\n",
    "val_data = val_gen.flow_from_directory( val_dir , target_size=(224,224) , batch_size=32 , class_mode = \"categorical\" , shuffle=True )\n",
    "\n",
    "test_data = test_gen.flow_from_directory( test_dir , target_size=(224,224) , batch_size=32 , class_mode = \"categorical\" ,shuffle=False )"
   ]
  },
  {
   "cell_type": "code",
   "execution_count": null,
   "id": "f669a195",
   "metadata": {},
   "outputs": [],
   "source": [
    "xceptionnet = Xception( include_top=False , weights=\"imagenet\" , input_shape=(224,224,3))\n",
    "\n",
    "xceptionnet.summary()"
   ]
  },
  {
   "cell_type": "code",
   "execution_count": null,
   "id": "3a4df347",
   "metadata": {},
   "outputs": [],
   "source": [
    "Model = Sequential([\n",
    "    xceptionnet,\n",
    "    GlobalAveragePooling2D(),\n",
    "    BatchNormalization(),\n",
    "    Dense(256,activation='relu'),\n",
    "    BatchNormalization(),\n",
    "    Dense(400,activation='softmax')\n",
    "])\n",
    "\n",
    "Model.summary()"
   ]
  },
  {
   "cell_type": "code",
   "execution_count": null,
   "id": "bfabf783",
   "metadata": {},
   "outputs": [],
   "source": []
  },
  {
   "cell_type": "code",
   "execution_count": null,
   "id": "91c6293d",
   "metadata": {},
   "outputs": [],
   "source": [
    "Model.compile( optimizer=\"adam\", loss=\"categorical_crossentropy\" , metrics=[\"accuracy\"] )"
   ]
  },
  {
   "cell_type": "code",
   "execution_count": null,
   "id": "8f3238fc",
   "metadata": {},
   "outputs": [],
   "source": [
    "callbacks = [EarlyStopping(monitor='val_accuracy' , patience=5 , restore_best_weights=True)]"
   ]
  },
  {
   "cell_type": "code",
   "execution_count": null,
   "id": "936e0008",
   "metadata": {},
   "outputs": [],
   "source": [
    "history = Model.fit(train_data,epochs=15 , batch_size=32 ,steps_per_epoch = len(train_data)\n",
    ",callbacks=callbacks ,workers=8,use_multiprocessing=True, validation_data=val_data,validation_steps = len(val_data))"
   ]
  },
  {
   "cell_type": "code",
   "execution_count": null,
   "id": "6ed71ce6",
   "metadata": {},
   "outputs": [],
   "source": [
    "results = Model.evaluate(test_data, verbose=0)\n",
    "\n",
    "\n",
    "print(\"    Test Loss: {:.5f}\".format(results[0]))\n",
    "print(\"Test Accuracy: {:.2f}%\".format(results[1] * 100))"
   ]
  },
  {
   "cell_type": "code",
   "execution_count": null,
   "id": "8a2c51fe",
   "metadata": {},
   "outputs": [],
   "source": [
    "def plot_curves(history):\n",
    "\n",
    "  loss = history.history[\"loss\"]\n",
    "  val_loss = history.history[\"val_loss\"]\n",
    "\n",
    "  accuracy = history.history[\"accuracy\"]\n",
    "  val_accuracy = history.history[\"val_accuracy\"]\n",
    "\n",
    "  epochs = range(len(history.history[\"loss\"]))\n",
    "\n",
    "  #plot loss\n",
    "  plt.plot(epochs, loss, label = \"training_loss\")\n",
    "  plt.plot(epochs, val_loss, label = \"val_loss\")\n",
    "  plt.title(\"Loss\")\n",
    "  plt.xlabel(\"epochs\")\n",
    "  plt.legend()\n",
    "\n",
    "  #plot accuracy\n",
    "  plt.figure() \n",
    "  plt.plot(epochs, accuracy, label = \"training_accuracy\")\n",
    "  plt.plot(epochs, val_accuracy, label = \"val_accuracy\")\n",
    "  plt.title(\"Accuracy\")\n",
    "  plt.xlabel(\"epochs\")\n",
    "  plt.legend()\n",
    "  plt.show()\n",
    "  plt.tight_layout()"
   ]
  },
  {
   "cell_type": "code",
   "execution_count": null,
   "id": "e5e91f1e",
   "metadata": {},
   "outputs": [],
   "source": [
    "plot_curves(history)"
   ]
  },
  {
   "cell_type": "code",
   "execution_count": null,
   "id": "70ccd883",
   "metadata": {},
   "outputs": [],
   "source": [
    "pred = Model.predict(test_data)\n",
    "pred = np.argmax(pred,axis=1)"
   ]
  },
  {
   "cell_type": "code",
   "execution_count": null,
   "id": "8b334b50",
   "metadata": {},
   "outputs": [],
   "source": [
    "index =62\n",
    "\n",
    "img , label = test_data[index]\n",
    "label = test_data.labels[index]\n",
    "print(f\"True Label: {BirdClasses[label]}\")\n",
    "print(f\"Predicted Label: {BirdClasses[pred[index]]}\")  \n",
    "plt.imshow(img[0])\n",
    "plt.show("
   ]
  },
  {
   "cell_type": "code",
   "execution_count": null,
   "id": "0752db57",
   "metadata": {},
   "outputs": [],
   "source": [
    "\n",
    "random_index = np.random.randint(0, len(test_data) - 1, 10)\n",
    "\n",
    "fig, axes = plt.subplots(nrows=2, ncols=5, figsize=(25, 10),\n",
    "                        subplot_kw={'xticks': [], 'yticks': []})\n",
    "\n",
    "for i, ax in enumerate(axes.flat):\n",
    "    randImg , randLabel = test_data[random_index[i]]\n",
    "    randLabel = test_data.labels[random_index[i]]\n",
    "    ax.imshow(randImg[0])\n",
    "    if BirdClasses[randLabel] == BirdClasses[pred[random_index[i]]]:\n",
    "      color = \"green\"\n",
    "    else:\n",
    "      color = \"red\"\n",
    "    ax.set_title(f\"True: {BirdClasses[randLabel]}\\nPredicted: {BirdClasses[pred[random_index[i]]]}\", color=color)\n",
    "plt.show()\n",
    "plt.tight_layout()"
   ]
  },
  {
   "cell_type": "code",
   "execution_count": null,
   "id": "8e186854",
   "metadata": {},
   "outputs": [],
   "source": [
    "def load_and_prep_image(filename, img_shape = 224):\n",
    "  img = tf.io.read_file(filename) #read image\n",
    "  img = tf.image.decode_image(img) # decode the image to a tensor\n",
    "  img = tf.image.resize(img, size = [img_shape, img_shape]) # resize the image\n",
    "  img = img/255. # rescale the image\n",
    "  return img"
   ]
  },
  {
   "cell_type": "code",
   "execution_count": null,
   "id": "554a21ce",
   "metadata": {},
   "outputs": [],
   "source": [
    "def pred_and_plot(filename, class_names):\n",
    "\n",
    "  # Import the target image and preprocess it\n",
    "  img = load_and_prep_image(filename)\n",
    "\n",
    "  # Make a prediction\n",
    "  pred = Model.predict(tf.expand_dims(img, axis=0))\n",
    "\n",
    "  # Get the predicted class\n",
    "  pred_class = class_names[pred.argmax()]\n",
    "\n",
    "  # Plot the image and predicted class\n",
    "  plt.imshow(img)\n",
    "  plt.title(f\"Prediction: {pred_class}\")\n",
    "  plt.axis(False);"
   ]
  },
  {
   "cell_type": "code",
   "execution_count": null,
   "id": "4240da1d",
   "metadata": {},
   "outputs": [],
   "source": [
    "pred_and_plot(\"Birds/test/ALBATROSS/5.jpg\", BirdClasses)"
   ]
  },
  {
   "cell_type": "code",
   "execution_count": null,
   "id": "c5941afc",
   "metadata": {},
   "outputs": [],
   "source": [
    "pred_and_plot(\"Birds/test/EMPEROR PENGUIN/4.jpg\", BirdClasses)"
   ]
  },
  {
   "cell_type": "code",
   "execution_count": null,
   "id": "10293ec6",
   "metadata": {},
   "outputs": [],
   "source": [
    "Model.save(\"BirdSpecies_xception_96.7.h5\")"
   ]
  }
 ],
 "metadata": {
  "kernelspec": {
   "display_name": "Python 3 (ipykernel)",
   "language": "python",
   "name": "python3"
  },
  "language_info": {
   "codemirror_mode": {
    "name": "ipython",
    "version": 3
   },
   "file_extension": ".py",
   "mimetype": "text/x-python",
   "name": "python",
   "nbconvert_exporter": "python",
   "pygments_lexer": "ipython3",
   "version": "3.9.12"
  }
 },
 "nbformat": 4,
 "nbformat_minor": 5
}
